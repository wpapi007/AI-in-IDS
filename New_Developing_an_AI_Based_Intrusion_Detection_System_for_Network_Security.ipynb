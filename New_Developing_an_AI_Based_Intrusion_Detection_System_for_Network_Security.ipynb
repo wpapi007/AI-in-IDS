{
  "nbformat": 4,
  "nbformat_minor": 0,
  "metadata": {
    "colab": {
      "provenance": []
    },
    "kernelspec": {
      "name": "python3",
      "display_name": "Python 3"
    },
    "language_info": {
      "name": "python"
    }
  },
  "cells": [
    {
      "cell_type": "markdown",
      "source": [
        "# **Prepare Data**"
      ],
      "metadata": {
        "id": "sERdym_JTXS1"
      }
    },
    {
      "cell_type": "code",
      "execution_count": null,
      "metadata": {
        "colab": {
          "base_uri": "https://localhost:8080/"
        },
        "id": "Wd4VdkAOS_O_",
        "outputId": "2cc41e15-315e-47cc-9670-22a2be97d106"
      },
      "outputs": [
        {
          "output_type": "stream",
          "name": "stdout",
          "text": [
            "Drive already mounted at /content/drive; to attempt to forcibly remount, call drive.mount(\"/content/drive\", force_remount=True).\n"
          ]
        }
      ],
      "source": [
        "# Import Google drive into colab\n",
        "\n",
        "from google.colab import drive\n",
        "drive.mount('/content/drive')"
      ]
    },
    {
      "cell_type": "code",
      "source": [
        "# Import necessary libraries\n",
        "import pandas as pd\n",
        "import numpy as np\n",
        "import matplotlib.pyplot as plt\n",
        "import seaborn as sns\n",
        "import warnings\n",
        "warnings.filterwarnings('ignore')\n",
        "\n",
        "# Load the Parquet file into a DataFrame\n",
        "file_path = '/content/drive/MyDrive/2024/2ND QUARTER/Dave/UNSW-NB15_1.csv'\n",
        "df = pd.read_csv(file_path)\n",
        "\n",
        "# Display the final DataFrame ready for model training\n",
        "print(df.head())"
      ],
      "metadata": {
        "colab": {
          "base_uri": "https://localhost:8080/"
        },
        "id": "annSXGqRwOuB",
        "outputId": "3ff7e5dc-ef85-4f70-8973-81ebf47e4710"
      },
      "execution_count": null,
      "outputs": [
        {
          "output_type": "stream",
          "name": "stdout",
          "text": [
            "   59.166.0.0   1390  149.171.126.6    53  udp  CON  0.001055  132  164  31  \\\n",
            "0  59.166.0.0  33661  149.171.126.9  1024  udp  CON  0.036133  528  304  31   \n",
            "1  59.166.0.6   1464  149.171.126.7    53  udp  CON  0.001119  146  178  31   \n",
            "2  59.166.0.5   3593  149.171.126.5    53  udp  CON  0.001209  132  164  31   \n",
            "3  59.166.0.3  49664  149.171.126.0    53  udp  CON  0.001169  146  178  31   \n",
            "4  59.166.0.0  32119  149.171.126.9   111  udp  CON  0.078339  568  312  31   \n",
            "\n",
            "   ...  0.17   3  7  1  3.1  1.1  1.2  1.3  Unnamed: 47  0.18  \n",
            "0  ...     0   2  4  2    3    1    1    2          NaN     0  \n",
            "1  ...     0  12  8  1    2    2    1    1          NaN     0  \n",
            "2  ...     0   6  9  1    1    1    1    1          NaN     0  \n",
            "3  ...     0   7  9  1    1    1    1    1          NaN     0  \n",
            "4  ...     0   2  4  2    3    1    1    2          NaN     0  \n",
            "\n",
            "[5 rows x 49 columns]\n"
          ]
        }
      ]
    },
    {
      "cell_type": "code",
      "source": [
        "# Inspect the DataFrame to determine the number of columns\n",
        "print(df.columns)\n",
        "print(len(df.columns))"
      ],
      "metadata": {
        "colab": {
          "base_uri": "https://localhost:8080/"
        },
        "id": "0lUTIgrO0Yv4",
        "outputId": "71d3b113-7f6d-407e-91f1-720acaec9f52"
      },
      "execution_count": null,
      "outputs": [
        {
          "output_type": "stream",
          "name": "stdout",
          "text": [
            "Index(['59.166.0.0', '1390', '149.171.126.6', '53', 'udp', 'CON', '0.001055',\n",
            "       '132', '164', '31', '29', '0', '0.1', 'dns', '500473.9375',\n",
            "       '621800.9375', '2', '2.1', '0.2', '0.3', '0.4', '0.5', '66', '82',\n",
            "       '0.6', '0.7', '0.8', '0.9', '1421927414', '1421927414.1', '0.017',\n",
            "       '0.013', '0.10', '0.11', '0.12', '0.13', '0.14', '0.15', '0.16', '0.17',\n",
            "       '3', '7', '1', '3.1', '1.1', '1.2', '1.3', 'Unnamed: 47', '0.18'],\n",
            "      dtype='object')\n",
            "49\n"
          ]
        }
      ]
    },
    {
      "cell_type": "code",
      "source": [
        "# Assuming df is already defined\n",
        "df.columns = [\n",
        "    'src_ip', 'src_port', 'dst_ip', 'dst_port', 'protocol', 'state', 'duration',\n",
        "    'src_bytes', 'dst_bytes', 'src_pkts', '0.17', '3', '7', '1', '3.1', '1.1', '1.2',\n",
        "    '1.3', 'Unnamed: 47', '0.18', 'extra_0', 'extra_1', 'extra_2', 'extra_3', 'extra_4',\n",
        "    'extra_5', 'extra_6', 'extra_7', 'extra_8', 'extra_9', 'extra_10', 'extra_11',\n",
        "    'extra_12', 'extra_13', 'extra_14', 'extra_15', 'extra_16', 'extra_17', 'extra_18',\n",
        "    'extra_19', 'extra_20', 'extra_21', 'extra_22', 'extra_23', 'extra_24', 'extra_25',\n",
        "    'extra_26', 'extra_27', 'extra_28'\n",
        "]\n",
        "\n",
        "# Display the DataFrame to verify the column names\n",
        "print(df)"
      ],
      "metadata": {
        "colab": {
          "base_uri": "https://localhost:8080/"
        },
        "id": "05v1ympk0Fof",
        "outputId": "0cc280f7-e93e-4d22-e922-ca9cd19273ca"
      },
      "execution_count": null,
      "outputs": [
        {
          "output_type": "stream",
          "name": "stdout",
          "text": [
            "            src_ip src_port         dst_ip dst_port protocol state  duration  \\\n",
            "0       59.166.0.0    33661  149.171.126.9     1024      udp   CON  0.036133   \n",
            "1       59.166.0.6     1464  149.171.126.7       53      udp   CON  0.001119   \n",
            "2       59.166.0.5     3593  149.171.126.5       53      udp   CON  0.001209   \n",
            "3       59.166.0.3    49664  149.171.126.0       53      udp   CON  0.001169   \n",
            "4       59.166.0.0    32119  149.171.126.9      111      udp   CON  0.078339   \n",
            "...            ...      ...            ...      ...      ...   ...       ...   \n",
            "699995  59.166.0.8    12520  149.171.126.6    31010      tcp   FIN  0.020383   \n",
            "699996  59.166.0.0    18895  149.171.126.9       80      tcp   FIN  1.402957   \n",
            "699997  59.166.0.0    30103  149.171.126.5     5190      tcp   FIN  0.007108   \n",
            "699998  59.166.0.6    30388  149.171.126.5      111      udp   CON  0.004435   \n",
            "699999  59.166.0.0     6055  149.171.126.5    54145      tcp   FIN  0.072974   \n",
            "\n",
            "        src_bytes  dst_bytes  src_pkts  ...  extra_19  extra_20  extra_21  \\\n",
            "0             528        304        31  ...         0         2         4   \n",
            "1             146        178        31  ...         0        12         8   \n",
            "2             132        164        31  ...         0         6         9   \n",
            "3             146        178        31  ...         0         7         9   \n",
            "4             568        312        31  ...         0         2         4   \n",
            "...           ...        ...       ...  ...       ...       ...       ...   \n",
            "699995        320       1874        31  ...         0         8        20   \n",
            "699996      19410    1087890        31  ...         0         1         1   \n",
            "699997       2158       2464        31  ...         0        13        13   \n",
            "699998        568        304        31  ...         0        10        13   \n",
            "699999       4238      60788        31  ...         0        13        13   \n",
            "\n",
            "       extra_22  extra_23  extra_24  extra_25  extra_26  extra_27  extra_28  \n",
            "0             2         3         1         1         2       NaN         0  \n",
            "1             1         2         2         1         1       NaN         0  \n",
            "2             1         1         1         1         1       NaN         0  \n",
            "3             1         1         1         1         1       NaN         0  \n",
            "4             2         3         1         1         2       NaN         0  \n",
            "...         ...       ...       ...       ...       ...       ...       ...  \n",
            "699995        7         5         1         1         4       NaN         0  \n",
            "699996        2         7         2         2         2       NaN         0  \n",
            "699997        6         7         2         1         2       NaN         0  \n",
            "699998        6         5         1         1         3       NaN         0  \n",
            "699999        6         7         1         1         2       NaN         0  \n",
            "\n",
            "[700000 rows x 49 columns]\n"
          ]
        }
      ]
    },
    {
      "cell_type": "markdown",
      "source": [
        "## **Data Preprocessing**"
      ],
      "metadata": {
        "id": "I7RTCHTOEk3R"
      }
    },
    {
      "cell_type": "code",
      "source": [
        "# Randomly select 50,000 rows from the DataFrame\n",
        "df = df.sample(n=50000, random_state=42)\n",
        "\n",
        "# Display the sampled DataFrame\n",
        "print(df.head())"
      ],
      "metadata": {
        "colab": {
          "base_uri": "https://localhost:8080/"
        },
        "id": "ntywrnoPDnUv",
        "outputId": "7056c477-ec2a-4da4-a51a-e3fb0f24a280"
      },
      "execution_count": null,
      "outputs": [
        {
          "output_type": "stream",
          "name": "stdout",
          "text": [
            "            src_ip src_port         dst_ip dst_port protocol state  duration  \\\n",
            "637949  59.166.0.0    62613  149.171.126.6    15816      udp   CON  0.001780   \n",
            "656465  59.166.0.8    28607  149.171.126.6       53      udp   CON  0.000987   \n",
            "337739  59.166.0.5    44569  149.171.126.9       53      udp   CON  0.000993   \n",
            "230222  59.166.0.0    18652  149.171.126.3    39373      udp   CON  0.001792   \n",
            "82039   59.166.0.9    20935  149.171.126.7       53      udp   CON  0.000995   \n",
            "\n",
            "        src_bytes  dst_bytes  src_pkts  ...  extra_19  extra_20  extra_21  \\\n",
            "637949        520        304        31  ...         0         5         5   \n",
            "656465        146        178        31  ...         0         4         3   \n",
            "337739        146        178        31  ...         0         1         4   \n",
            "230222        528        304        31  ...         0         3         8   \n",
            "82039         130        162        31  ...         0         1         1   \n",
            "\n",
            "       extra_22  extra_23  extra_24  extra_25  extra_26  extra_27  extra_28  \n",
            "637949        4         4         1         1         2       NaN         0  \n",
            "656465        4         2         1         1         1       NaN         0  \n",
            "337739        2         1         1         1         1       NaN         0  \n",
            "230222        5         3         1         1         3       NaN         0  \n",
            "82039         5         3         1         1         1       NaN         0  \n",
            "\n",
            "[5 rows x 49 columns]\n"
          ]
        }
      ]
    },
    {
      "cell_type": "code",
      "source": [
        "# Drop columns with 'extra_' prefix and columns with too many NaN values\n",
        "columns_to_drop = [col for col in df.columns if col.startswith('extra_') or df[col].isna().sum() / len(df) > 0.5]\n",
        "df = df.drop(columns=columns_to_drop)"
      ],
      "metadata": {
        "id": "X_3O3ozhdJlv"
      },
      "execution_count": null,
      "outputs": []
    },
    {
      "cell_type": "code",
      "source": [
        "# Drop the target variable 'state' from features\n",
        "df_features = df.drop(columns=['state'])\n",
        "\n",
        "# One-hot encode categorical columns (if any remain)\n",
        "df_encoded = pd.get_dummies(df_features, columns=['protocol'])  # Only 'protocol' remains for encoding"
      ],
      "metadata": {
        "id": "xpcBJhnZdSeE"
      },
      "execution_count": null,
      "outputs": []
    },
    {
      "cell_type": "code",
      "source": [
        "from sklearn.preprocessing import StandardScaler\n",
        "\n",
        "# Identify numeric columns\n",
        "numeric_columns = df_encoded.select_dtypes(include=['float64', 'int64']).columns\n",
        "\n",
        "# Standardize numeric data\n",
        "scaler = StandardScaler()\n",
        "df_encoded[numeric_columns] = scaler.fit_transform(df_encoded[numeric_columns])"
      ],
      "metadata": {
        "id": "gu9D1c_OdVL0"
      },
      "execution_count": null,
      "outputs": []
    },
    {
      "cell_type": "markdown",
      "source": [
        "# **Feature Engineering**"
      ],
      "metadata": {
        "id": "3wz5OgmHgT3X"
      }
    },
    {
      "cell_type": "code",
      "source": [
        "from sklearn.decomposition import PCA\n",
        "\n",
        "# Apply PCA to the numeric features\n",
        "pca = PCA(n_components=0.95)  # retain 95% of variance\n",
        "principal_components = pca.fit_transform(df_encoded[numeric_columns])\n",
        "\n",
        "# Create a DataFrame with PCA components\n",
        "df_pca = pd.DataFrame(data=principal_components, columns=[f'PC{i+1}' for i in range(principal_components.shape[1])])\n",
        "\n",
        "# Combine PCA components with the rest of the DataFrame (excluding 'state')\n",
        "df_final = pd.concat([df_encoded.drop(columns=numeric_columns), df_pca], axis=1)"
      ],
      "metadata": {
        "id": "ml8QBhqTdY52"
      },
      "execution_count": null,
      "outputs": []
    },
    {
      "cell_type": "code",
      "source": [
        "from sklearn.preprocessing import OneHotEncoder\n",
        "from sklearn.compose import ColumnTransformer\n",
        "from sklearn.pipeline import Pipeline\n",
        "from sklearn.impute import SimpleImputer\n",
        "from sklearn.model_selection import train_test_split\n",
        "\n",
        "# Assuming 'df' is your DataFrame and 'state' is your target variable\n",
        "# Separate features and target\n",
        "X = df.drop(columns=['state'])\n",
        "y = df['state']\n",
        "\n",
        "# Identify categorical and numeric columns\n",
        "categorical_cols = ['protocol']  # Add other categorical columns if any\n",
        "numeric_cols = X.select_dtypes(include=['float64', 'int64']).columns.tolist()\n",
        "non_numeric_cols = X.select_dtypes(include=['object']).columns.tolist()\n",
        "\n",
        "# Define preprocessing for numeric and categorical data\n",
        "numeric_preprocessor = Pipeline(steps=[\n",
        "    ('imputer', SimpleImputer(strategy='median')),  # Handle missing values\n",
        "    ('scaler', StandardScaler())\n",
        "])\n",
        "\n",
        "categorical_preprocessor = Pipeline(steps=[\n",
        "    ('imputer', SimpleImputer(strategy='constant', fill_value='missing')),  # Handle missing values\n",
        "    ('onehot', OneHotEncoder(handle_unknown='ignore'))  # Convert categorical to numerical\n",
        "])\n",
        "\n",
        "# Combine preprocessors\n",
        "preprocessor = ColumnTransformer(\n",
        "    transformers=[\n",
        "        ('num', numeric_preprocessor, numeric_cols),\n",
        "        ('cat', categorical_preprocessor, categorical_cols)\n",
        "    ]\n",
        ")\n",
        "\n",
        "# Fit and transform the data\n",
        "X_preprocessed = preprocessor.fit_transform(X)\n",
        "\n",
        "# Convert to dense array if necessary\n",
        "from scipy.sparse import issparse\n",
        "\n",
        "if issparse(X_preprocessed):\n",
        "    X_preprocessed = X_preprocessed.toarray()\n",
        "\n",
        "# Convert DataFrame to NumPy array if needed\n",
        "if isinstance(X_preprocessed, pd.DataFrame):\n",
        "    X_preprocessed = X_preprocessed.values\n",
        "\n",
        "# Verify X_preprocessed\n",
        "print(f\"X_preprocessed shape: {X_preprocessed.shape}\")"
      ],
      "metadata": {
        "colab": {
          "base_uri": "https://localhost:8080/"
        },
        "id": "HsIWM69ViHMN",
        "outputId": "ed43c3fb-023b-497c-e354-df37403d444a"
      },
      "execution_count": null,
      "outputs": [
        {
          "output_type": "stream",
          "name": "stdout",
          "text": [
            "X_preprocessed shape: (50000, 104)\n"
          ]
        }
      ]
    },
    {
      "cell_type": "code",
      "source": [
        "import numpy as np\n",
        "from sklearn.model_selection import train_test_split\n",
        "\n",
        "# Generator to create sequences\n",
        "def sequence_generator(data, seq_length):\n",
        "    for i in range(len(data) - seq_length + 1):\n",
        "        yield data[i:i + seq_length]\n",
        "\n",
        "# Define sequence length\n",
        "sequence_length = 50  # Adjust as needed\n",
        "\n",
        "# Create generator for sequences\n",
        "sequence_gen = sequence_generator(X_preprocessed, sequence_length)\n",
        "\n",
        "# Convert generator to list of sequences\n",
        "X_sequences = np.array(list(sequence_gen))\n",
        "\n",
        "# Ensure `y` is aligned with `X_sequences`\n",
        "y_sequences = y[sequence_length-1:].reset_index(drop=True)  # Adjust for sequence length\n",
        "\n",
        "# Split data into training and testing sets\n",
        "X_train, X_test, y_train, y_test = train_test_split(X_sequences, y_sequences, test_size=0.2, random_state=42)\n",
        "\n",
        "# Check shapes of the resulting splits\n",
        "print(f\"X_train shape: {X_train.shape}\")\n",
        "print(f\"X_test shape: {X_test.shape}\")\n",
        "print(f\"y_train shape: {y_train.shape}\")\n",
        "print(f\"y_test shape: {y_test.shape}\")"
      ],
      "metadata": {
        "colab": {
          "base_uri": "https://localhost:8080/"
        },
        "id": "DaFa-K8UdwT-",
        "outputId": "5fdbef9d-9b54-42aa-c335-a7f26e9a1ea7"
      },
      "execution_count": null,
      "outputs": [
        {
          "output_type": "stream",
          "name": "stdout",
          "text": [
            "X_train shape: (39960, 50, 104)\n",
            "X_test shape: (9991, 50, 104)\n",
            "y_train shape: (39960,)\n",
            "y_test shape: (9991,)\n"
          ]
        }
      ]
    },
    {
      "cell_type": "code",
      "source": [
        "import matplotlib.pyplot as plt\n",
        "\n",
        "# Plot shapes\n",
        "splits = ['X_train', 'X_test', 'y_train', 'y_test']\n",
        "shapes = [X_train.shape[0], X_test.shape[0], y_train.shape[0], y_test.shape[0]]\n",
        "\n",
        "plt.figure(figsize=(8, 6))\n",
        "plt.bar(splits, shapes, color=['blue', 'orange', 'green', 'red'])\n",
        "plt.title('Shapes of Train/Test Splits')\n",
        "plt.xlabel('Splits')\n",
        "plt.ylabel('Number of Samples')\n",
        "plt.show()"
      ],
      "metadata": {
        "colab": {
          "base_uri": "https://localhost:8080/",
          "height": 564
        },
        "id": "yeVusaHN7s9X",
        "outputId": "38cd6abb-3ccd-4c5c-e474-a2efe679996c"
      },
      "execution_count": null,
      "outputs": [
        {
          "output_type": "display_data",
          "data": {
            "text/plain": [
              "<Figure size 800x600 with 1 Axes>"
            ],
            "image/png": "[encoded data removed]"
          },
          "metadata": {}
        }
      ]
    },
    {
      "cell_type": "markdown",
      "source": [
        "# **Train LSTM Autoencoder**"
      ],
      "metadata": {
        "id": "YTazVZjses3_"
      }
    },
    {
      "cell_type": "code",
      "source": [
        "import tensorflow as tf\n",
        "from tensorflow.keras.models import Model\n",
        "from tensorflow.keras.layers import Input, LSTM, RepeatVector\n",
        "from tensorflow.keras.optimizers import Adam\n",
        "\n",
        "# Define the LSTM Autoencoder architecture\n",
        "def build_lstm_autoencoder(sequence_length, num_features):\n",
        "    inputs = Input(shape=(sequence_length, num_features))\n",
        "    encoded = LSTM(64, activation='relu', return_sequences=False)(inputs)\n",
        "    encoded = RepeatVector(sequence_length)(encoded)\n",
        "    decoded = LSTM(64, activation='relu', return_sequences=True)(encoded)\n",
        "    decoded = LSTM(num_features, activation='sigmoid', return_sequences=True)(decoded)\n",
        "\n",
        "    autoencoder = Model(inputs, decoded)\n",
        "    autoencoder.compile(optimizer=Adam(learning_rate=0.001), loss='mse')\n",
        "\n",
        "    return autoencoder\n",
        "\n",
        "# Hyperparameters\n",
        "sequence_length = 50  # Same as defined earlier\n",
        "num_features = X_train.shape[2]  # Number of features in each time step\n",
        "\n",
        "# Build the model\n",
        "autoencoder = build_lstm_autoencoder(sequence_length, num_features)\n",
        "\n",
        "# Train the model\n",
        "history = autoencoder.fit(\n",
        "    X_train, X_train,  # Autoencoder uses input data as target\n",
        "    epochs=10,\n",
        "    batch_size=64,\n",
        "    validation_split=0.1,\n",
        "    verbose=1\n",
        ")\n",
        "\n",
        "# Evaluate the model\n",
        "loss = autoencoder.evaluate(X_test, X_test)\n",
        "print(f\"Test loss: {loss}\")\n",
        "\n",
        "# Example: Predict using the autoencoder\n",
        "predictions = autoencoder.predict(X_test)"
      ],
      "metadata": {
        "colab": {
          "base_uri": "https://localhost:8080/"
        },
        "id": "TKEY7ALVkWPv",
        "outputId": "0942e11e-8fd8-4926-a0ce-faa5b9c6c8b2"
      },
      "execution_count": null,
      "outputs": [
        {
          "output_type": "stream",
          "name": "stdout",
          "text": [
            "Epoch 1/10\n",
            "\u001b[1m562/562\u001b[0m \u001b[32m━━━━━━━━━━━━━━━━━━━━\u001b[0m\u001b[37m\u001b[0m \u001b[1m137s\u001b[0m 234ms/step - loss: 0.1485 - val_loss: 0.1258\n",
            "Epoch 2/10\n",
            "\u001b[1m562/562\u001b[0m \u001b[32m━━━━━━━━━━━━━━━━━━━━\u001b[0m\u001b[37m\u001b[0m \u001b[1m117s\u001b[0m 189ms/step - loss: 0.1315 - val_loss: 0.1251\n",
            "Epoch 3/10\n",
            "\u001b[1m562/562\u001b[0m \u001b[32m━━━━━━━━━━━━━━━━━━━━\u001b[0m\u001b[37m\u001b[0m \u001b[1m143s\u001b[0m 192ms/step - loss: 0.1308 - val_loss: 0.1247\n",
            "Epoch 4/10\n",
            "\u001b[1m562/562\u001b[0m \u001b[32m━━━━━━━━━━━━━━━━━━━━\u001b[0m\u001b[37m\u001b[0m \u001b[1m141s\u001b[0m 190ms/step - loss: 0.1309 - val_loss: 0.1245\n",
            "Epoch 5/10\n",
            "\u001b[1m562/562\u001b[0m \u001b[32m━━━━━━━━━━━━━━━━━━━━\u001b[0m\u001b[37m\u001b[0m \u001b[1m140s\u001b[0m 188ms/step - loss: 0.1308 - val_loss: 0.1244\n",
            "Epoch 6/10\n",
            "\u001b[1m562/562\u001b[0m \u001b[32m━━━━━━━━━━━━━━━━━━━━\u001b[0m\u001b[37m\u001b[0m \u001b[1m143s\u001b[0m 190ms/step - loss: 0.1284 - val_loss: 0.1243\n",
            "Epoch 7/10\n",
            "\u001b[1m562/562\u001b[0m \u001b[32m━━━━━━━━━━━━━━━━━━━━\u001b[0m\u001b[37m\u001b[0m \u001b[1m141s\u001b[0m 189ms/step - loss: 0.1298 - val_loss: 0.1244\n",
            "Epoch 8/10\n",
            "\u001b[1m562/562\u001b[0m \u001b[32m━━━━━━━━━━━━━━━━━━━━\u001b[0m\u001b[37m\u001b[0m \u001b[1m142s\u001b[0m 190ms/step - loss: 0.1293 - val_loss: 0.1244\n",
            "Epoch 9/10\n",
            "\u001b[1m562/562\u001b[0m \u001b[32m━━━━━━━━━━━━━━━━━━━━\u001b[0m\u001b[37m\u001b[0m \u001b[1m106s\u001b[0m 189ms/step - loss: 0.1309 - val_loss: 0.1243\n",
            "Epoch 10/10\n",
            "\u001b[1m562/562\u001b[0m \u001b[32m━━━━━━━━━━━━━━━━━━━━\u001b[0m\u001b[37m\u001b[0m \u001b[1m142s\u001b[0m 190ms/step - loss: 0.1308 - val_loss: 0.1243\n",
            "\u001b[1m313/313\u001b[0m \u001b[32m━━━━━━━━━━━━━━━━━━━━\u001b[0m\u001b[37m\u001b[0m \u001b[1m13s\u001b[0m 43ms/step - loss: 0.1345\n",
            "Test loss: 0.12988781929016113\n",
            "\u001b[1m313/313\u001b[0m \u001b[32m━━━━━━━━━━━━━━━━━━━━\u001b[0m\u001b[37m\u001b[0m \u001b[1m12s\u001b[0m 36ms/step\n"
          ]
        }
      ]
    },
    {
      "cell_type": "code",
      "source": [
        "# Plot training & validation loss values\n",
        "plt.figure(figsize=(10, 6))\n",
        "plt.plot(history.history['loss'], label='Training Loss')\n",
        "plt.plot(history.history['val_loss'], label='Validation Loss')\n",
        "plt.title('Model Loss During Training')\n",
        "plt.xlabel('Epoch')\n",
        "plt.ylabel('Loss')\n",
        "plt.legend(loc='upper right')\n",
        "plt.show()"
      ],
      "metadata": {
        "colab": {
          "base_uri": "https://localhost:8080/",
          "height": 564
        },
        "id": "aCvCt6T5741N",
        "outputId": "5e143396-445a-45f7-faa0-5ae5383432ce"
      },
      "execution_count": null,
      "outputs": [
        {
          "output_type": "display_data",
          "data": {
            "text/plain": [
              "<Figure size 1000x600 with 1 Axes>"
            ],
            "image/png": "[encoded data removed]"
          },
          "metadata": {}
        }
      ]
    },
    {
      "cell_type": "markdown",
      "source": [
        "# **Evaluation**"
      ],
      "metadata": {
        "id": "Cx-zV2dCf8pX"
      }
    },
    {
      "cell_type": "code",
      "source": [
        "import numpy as np\n",
        "\n",
        "# Predict using the autoencoder\n",
        "X_test_reconstructed = autoencoder.predict(X_test)\n",
        "\n",
        "# Calculate reconstruction error (mean squared error)\n",
        "reconstruction_error = np.mean(np.square(X_test - X_test_reconstructed), axis=(1, 2))\n",
        "\n",
        "# Calculate overall reconstruction loss\n",
        "overall_reconstruction_loss = np.mean(reconstruction_error)\n",
        "\n",
        "# Print overall reconstruction loss\n",
        "print(f\"Overall Reconstruction Loss: {overall_reconstruction_loss}\")"
      ],
      "metadata": {
        "colab": {
          "base_uri": "https://localhost:8080/"
        },
        "id": "bVT-eJHzDnim",
        "outputId": "c1ea834e-4783-43ef-a6fb-a40d88eafbef"
      },
      "execution_count": null,
      "outputs": [
        {
          "output_type": "stream",
          "name": "stdout",
          "text": [
            "\u001b[1m313/313\u001b[0m \u001b[32m━━━━━━━━━━━━━━━━━━━━\u001b[0m\u001b[37m\u001b[0m \u001b[1m14s\u001b[0m 45ms/step\n",
            "Overall Reconstruction Loss: 0.12988779989027208\n"
          ]
        }
      ]
    },
    {
      "cell_type": "code",
      "source": [
        "unique_states = y_test.unique()\n",
        "print(\"Unique values in 'state':\", unique_states)"
      ],
      "metadata": {
        "colab": {
          "base_uri": "https://localhost:8080/"
        },
        "id": "20TT1Z5f9UCh",
        "outputId": "a708ffee-a89f-434e-ba01-4125f5c63a7e"
      },
      "execution_count": null,
      "outputs": [
        {
          "output_type": "stream",
          "name": "stdout",
          "text": [
            "Unique values in 'state': ['FIN' 'CON' 'INT' 'REQ' 'ECO' 'CLO' 'URH']\n"
          ]
        }
      ]
    },
    {
      "cell_type": "code",
      "source": [
        "from sklearn.metrics import classification_report, confusion_matrix\n",
        "import numpy as np\n",
        "\n",
        "# Predict using the autoencoder\n",
        "X_test_reconstructed = autoencoder.predict(X_test)\n",
        "\n",
        "# Calculate reconstruction error (mean squared error)\n",
        "reconstruction_error = np.mean(np.square(X_test - X_test_reconstructed), axis=(1, 2))\n",
        "\n",
        "# Determine the threshold for anomaly detection (for simplicity, use the 95th percentile)\n",
        "threshold = np.percentile(reconstruction_error, 95)\n",
        "\n",
        "# Assign 'Normal' or 'Anomalous' to reconstruction errors based on the threshold\n",
        "y_pred_anomalous = np.where(reconstruction_error > threshold, 'Anomalous', 'Normal')\n",
        "\n",
        "# To handle multi-class, we should keep the original classes and add an anomaly class\n",
        "# For simplicity, label everything not detected as anomalous as 'Normal'\n",
        "# If an item is classified as anomalous, label it as 'Anomalous'\n",
        "y_pred = np.copy(y_test)\n",
        "y_pred[reconstruction_error > threshold] = 'Anomalous'\n",
        "\n",
        "# Determine unique classes including 'Anomalous'\n",
        "all_classes = np.unique(np.concatenate((y_test, ['Anomalous'])))\n",
        "\n",
        "# Print classification report\n",
        "print(\"Classification Report:\")\n",
        "print(classification_report(y_test, y_pred, target_names=all_classes))\n",
        "\n",
        "# Print confusion matrix\n",
        "conf_matrix = confusion_matrix(y_test, y_pred, labels=all_classes)\n",
        "print(\"Confusion Matrix:\")\n",
        "print(conf_matrix)"
      ],
      "metadata": {
        "id": "QCD9hKfYtb6Z",
        "colab": {
          "base_uri": "https://localhost:8080/"
        },
        "outputId": "af8b3648-52fd-4371-b5bb-765420ce369c"
      },
      "execution_count": null,
      "outputs": [
        {
          "output_type": "stream",
          "name": "stdout",
          "text": [
            "\u001b[1m313/313\u001b[0m \u001b[32m━━━━━━━━━━━━━━━━━━━━\u001b[0m\u001b[37m\u001b[0m \u001b[1m10s\u001b[0m 31ms/step\n",
            "Classification Report:\n",
            "              precision    recall  f1-score   support\n",
            "\n",
            "   Anomalous       0.00      0.00      0.00         0\n",
            "         CLO       1.00      1.00      1.00         2\n",
            "         CON       1.00      0.95      0.98      2646\n",
            "         ECO       1.00      1.00      1.00         1\n",
            "         FIN       1.00      0.95      0.97      7003\n",
            "         INT       1.00      0.93      0.96       305\n",
            "         REQ       1.00      0.97      0.98        33\n",
            "         URH       1.00      1.00      1.00         1\n",
            "\n",
            "    accuracy                           0.95      9991\n",
            "   macro avg       0.88      0.85      0.86      9991\n",
            "weighted avg       1.00      0.95      0.97      9991\n",
            "\n",
            "Confusion Matrix:\n",
            "[[   0    0    0    0    0    0    0    0]\n",
            " [   0    2    0    0    0    0    0    0]\n",
            " [ 128    0 2518    0    0    0    0    0]\n",
            " [   0    0    0    1    0    0    0    0]\n",
            " [ 350    0    0    0 6653    0    0    0]\n",
            " [  21    0    0    0    0  284    0    0]\n",
            " [   1    0    0    0    0    0   32    0]\n",
            " [   0    0    0    0    0    0    0    1]]\n"
          ]
        }
      ]
    },
    {
      "cell_type": "code",
      "source": [
        "import numpy as np\n",
        "import seaborn as sns\n",
        "import matplotlib.pyplot as plt\n",
        "from sklearn.metrics import confusion_matrix\n",
        "\n",
        "# Define the class names\n",
        "class_names = ['FIN', 'CON', 'INT', 'REQ', 'ECO', 'CLO', 'URH', 'Anomalous']\n",
        "\n",
        "# Compute the confusion matrix\n",
        "conf_matrix = np.array([\n",
        "    [   0,    0,    0,    0,    0,    0,    0,    0],\n",
        "    [   0,    2,    0,    0,    0,    0,    0,    0],\n",
        "    [ 128,    0, 2518,    0,    0,    0,    0,    0],\n",
        "    [   0,    0,    0,    1,    0,    0,    0,    0],\n",
        "    [ 350,    0,    0,    0, 6653,    0,    0,    0],\n",
        "    [  21,    0,    0,    0,    0,  284,    0,    0],\n",
        "    [   1,    0,    0,    0,    0,    0,   32,    0],\n",
        "    [   0,    0,    0,    0,    0,    0,    0,    1]\n",
        "])\n",
        "\n",
        "# Create a heatmap of the confusion matrix\n",
        "plt.figure(figsize=(10, 8))\n",
        "sns.heatmap(conf_matrix, annot=True, fmt='d', cmap='Blues', xticklabels=class_names, yticklabels=class_names)\n",
        "plt.xlabel('Predicted Label')\n",
        "plt.ylabel('True Label')\n",
        "plt.title('Confusion Matrix')\n",
        "plt.show()"
      ],
      "metadata": {
        "id": "x5g3D9jHGl4w",
        "outputId": "181402e8-5109-43ad-dc54-e599934f7d84",
        "colab": {
          "base_uri": "https://localhost:8080/",
          "height": 718
        }
      },
      "execution_count": null,
      "outputs": [
        {
          "output_type": "display_data",
          "data": {
            "text/plain": [
              "<Figure size 1000x800 with 2 Axes>"
            ],
            "image/png": "[encoded data removed]"
          },
          "metadata": {}
        }
      ]
    }
  ]
}